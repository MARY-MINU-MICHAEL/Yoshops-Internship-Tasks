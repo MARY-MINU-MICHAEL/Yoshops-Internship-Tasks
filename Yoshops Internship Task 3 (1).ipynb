{
 "cells": [
  {
   "cell_type": "code",
   "execution_count": 22,
   "id": "c1c7198d",
   "metadata": {},
   "outputs": [],
   "source": [
    "# create excel file with  web url, Products name, Products Details, contact no and address columns.\n",
    "from bs4 import BeautifulSoup\n",
    "import pandas as pd\n",
    "import requests\n",
    "import urllib.request\n",
    "import re\n",
    "baseurl='https://yoshops.com/'\n",
    "\n",
    "headers={'Mozilla/5.0 (Windows NT 10.0; Win64; x64) AppleWebKit/537.36 (KHTML, like Gecko) Chrome/109.0.0.0 Safari/537.36'}\n",
    "\n",
    "\n",
    "for x in range(1,12):\n",
    "    r = urllib.request.urlopen(f'https://yoshops.com/products?page={x}').read()\n",
    "    soup = BeautifulSoup(r,'lxml')\n",
    "\n",
    "    productlist = soup.find_all('div', class_='products')\n",
    "    productlinks=[]\n",
    "\n",
    "\n",
    "for product in productlist:\n",
    "    for link in product.find_all('a',href=True):\n",
    "        productlinks.append(baseurl + link['href'])\n",
    "\n",
    "\n",
    "\n",
    "data=[]\n",
    "\n",
    "for link in productlinks:\n",
    "    r= urllib.request.urlopen(link)\n",
    "    soup=BeautifulSoup(r,'lxml')\n",
    "    \n",
    "    product={}\n",
    "\n",
    "    product['name']=soup.find('h1', class_='single-product-title').text.strip()\n",
    "    \n",
    "    product['price']=soup.find('div',class_='single-product-price').text.strip()\n",
    "    product['link']=link\n",
    "    \n",
    "\n",
    "    data.append(product)\n",
    "\n",
    "\n",
    "\n",
    "df=pd.DataFrame(data)\n",
    "df.to_excel('products.xlsx')\n",
    "df.to_csv('products.csv')\n",
    "      \n",
    "\n",
    "\n",
    "\n",
    "\n",
    "\n"
   ]
  },
  {
   "cell_type": "code",
   "execution_count": null,
   "id": "f4963159",
   "metadata": {},
   "outputs": [],
   "source": [
    "def handlerprice(value):\n",
    "    value=str(value).split('₹')\n",
    "    value=value[1]\n",
    "    return (value)\n",
    "df['regular_price']=df['price'].apply(handlerprice)\n",
    "\n",
    "def handlesprice(value):\n",
    "    value=str(value).split('₹')\n",
    "    value=value[2]\n",
    "    return (value)\n",
    "\n",
    "df['s_price']=df['price'].apply(handlesprice)\n",
    "\n",
    "def handleprice(value):\n",
    "    value=str(value).split('Free Shipping!')\n",
    "    value=value[0]\n",
    "    return (value)\n",
    "\n",
    "df['sale_price']=df['s_price'].apply(handleprice)\n",
    "df=df.drop(['price','s_price'],axis=1)\n",
    "\n",
    "df.to_excel('products.xlsx')\n",
    "df.to_csv('products.csv')\n",
    "\n"
   ]
  },
  {
   "cell_type": "code",
   "execution_count": null,
   "id": "3416868d",
   "metadata": {},
   "outputs": [],
   "source": []
  },
  {
   "cell_type": "code",
   "execution_count": null,
   "id": "b61c072e",
   "metadata": {},
   "outputs": [],
   "source": []
  },
  {
   "cell_type": "code",
   "execution_count": null,
   "id": "2317690b",
   "metadata": {},
   "outputs": [],
   "source": []
  },
  {
   "cell_type": "code",
   "execution_count": null,
   "id": "2f992c69",
   "metadata": {},
   "outputs": [],
   "source": []
  },
  {
   "cell_type": "code",
   "execution_count": null,
   "id": "0ea7e979",
   "metadata": {},
   "outputs": [],
   "source": []
  },
  {
   "cell_type": "code",
   "execution_count": null,
   "id": "9b03f3a0",
   "metadata": {},
   "outputs": [],
   "source": []
  },
  {
   "cell_type": "code",
   "execution_count": null,
   "id": "d9a2bcf9",
   "metadata": {},
   "outputs": [],
   "source": []
  },
  {
   "cell_type": "code",
   "execution_count": null,
   "id": "df586666",
   "metadata": {},
   "outputs": [],
   "source": []
  },
  {
   "cell_type": "code",
   "execution_count": null,
   "id": "924f51f0",
   "metadata": {},
   "outputs": [],
   "source": []
  },
  {
   "cell_type": "code",
   "execution_count": null,
   "id": "81cdfe85",
   "metadata": {},
   "outputs": [],
   "source": []
  },
  {
   "cell_type": "code",
   "execution_count": null,
   "id": "264b238d",
   "metadata": {},
   "outputs": [],
   "source": []
  },
  {
   "cell_type": "code",
   "execution_count": null,
   "id": "57b98412",
   "metadata": {},
   "outputs": [],
   "source": []
  },
  {
   "cell_type": "code",
   "execution_count": null,
   "id": "361b42eb",
   "metadata": {},
   "outputs": [],
   "source": []
  },
  {
   "cell_type": "code",
   "execution_count": null,
   "id": "0da3c57d",
   "metadata": {},
   "outputs": [],
   "source": []
  },
  {
   "cell_type": "code",
   "execution_count": null,
   "id": "abed8571",
   "metadata": {},
   "outputs": [],
   "source": []
  },
  {
   "cell_type": "code",
   "execution_count": null,
   "id": "1332a9cd",
   "metadata": {},
   "outputs": [],
   "source": []
  },
  {
   "cell_type": "code",
   "execution_count": null,
   "id": "640ecb6a",
   "metadata": {},
   "outputs": [],
   "source": []
  }
 ],
 "metadata": {
  "kernelspec": {
   "display_name": "Python 3 (ipykernel)",
   "language": "python",
   "name": "python3"
  },
  "language_info": {
   "codemirror_mode": {
    "name": "ipython",
    "version": 3
   },
   "file_extension": ".py",
   "mimetype": "text/x-python",
   "name": "python",
   "nbconvert_exporter": "python",
   "pygments_lexer": "ipython3",
   "version": "3.9.13"
  }
 },
 "nbformat": 4,
 "nbformat_minor": 5
}
